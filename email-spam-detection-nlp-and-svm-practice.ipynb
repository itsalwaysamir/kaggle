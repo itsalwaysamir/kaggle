{
 "cells": [
  {
   "cell_type": "code",
   "execution_count": 1,
   "id": "e15660a9",
   "metadata": {
    "_cell_guid": "b1076dfc-b9ad-4769-8c92-a6c4dae69d19",
    "_uuid": "8f2839f25d086af736a60e9eeb907d3b93b6e0e5",
    "execution": {
     "iopub.execute_input": "2023-02-22T14:26:58.655040Z",
     "iopub.status.busy": "2023-02-22T14:26:58.654049Z",
     "iopub.status.idle": "2023-02-22T14:26:58.673032Z",
     "shell.execute_reply": "2023-02-22T14:26:58.672027Z"
    },
    "papermill": {
     "duration": 0.026675,
     "end_time": "2023-02-22T14:26:58.675836",
     "exception": false,
     "start_time": "2023-02-22T14:26:58.649161",
     "status": "completed"
    },
    "tags": []
   },
   "outputs": [],
   "source": [
    "# This Python 3 environment comes with many helpful analytics libraries installed\n",
    "# It is defined by the kaggle/python Docker image: https://github.com/kaggle/docker-python\n",
    "# For example, here's several helpful packages to load\n",
    "\n",
    "import numpy as np # linear algebra\n",
    "import pandas as pd # data processing, CSV file I/O (e.g. pd.read_csv)\n",
    "\n",
    "# Input data files are available in the read-only \"../input/\" directory\n",
    "# For example, running this (by clicking run or pressing Shift+Enter) will list all files under the input directory\n",
    "\n",
    "import os\n",
    "for dirname, _, filenames in os.walk('/kaggle/input/spam-email/spam.csv'):\n",
    "    for filename in filenames:\n",
    "        print(os.path.join(dirname, filename))\n",
    "\n",
    "# You can write up to 20GB to the current directory (/kaggle/working/) that gets preserved as output when you create a version using \"Save & Run All\" \n",
    "# You can also write temporary files to /kaggle/temp/, but they won't be saved outside of the current session"
   ]
  },
  {
   "cell_type": "markdown",
   "id": "d491322e",
   "metadata": {
    "papermill": {
     "duration": 0.001543,
     "end_time": "2023-02-22T14:26:58.679478",
     "exception": false,
     "start_time": "2023-02-22T14:26:58.677935",
     "status": "completed"
    },
    "tags": []
   },
   "source": [
    "# Scenario\n",
    "Company dislikeSpam approaches us to improve their customer service by allowing their customers to reach out to them with text messages. However, since they are afraid that they will receive a lot of spam messages, they would like to recognize and filter them automatically. Our task is to build a first prototype and create a proof of concept."
   ]
  },
  {
   "cell_type": "code",
   "execution_count": null,
   "id": "b4ecd369",
   "metadata": {
    "papermill": {
     "duration": 0.001357,
     "end_time": "2023-02-22T14:26:58.682433",
     "exception": false,
     "start_time": "2023-02-22T14:26:58.681076",
     "status": "completed"
    },
    "tags": []
   },
   "outputs": [],
   "source": []
  }
 ],
 "metadata": {
  "kernelspec": {
   "display_name": "Python 3",
   "language": "python",
   "name": "python3"
  },
  "language_info": {
   "codemirror_mode": {
    "name": "ipython",
    "version": 3
   },
   "file_extension": ".py",
   "mimetype": "text/x-python",
   "name": "python",
   "nbconvert_exporter": "python",
   "pygments_lexer": "ipython3",
   "version": "3.7.12"
  },
  "papermill": {
   "default_parameters": {},
   "duration": 9.695659,
   "end_time": "2023-02-22T14:26:59.407871",
   "environment_variables": {},
   "exception": null,
   "input_path": "__notebook__.ipynb",
   "output_path": "__notebook__.ipynb",
   "parameters": {},
   "start_time": "2023-02-22T14:26:49.712212",
   "version": "2.3.4"
  }
 },
 "nbformat": 4,
 "nbformat_minor": 5
}
